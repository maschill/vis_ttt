{
 "cells": [
  {
   "cell_type": "code",
   "execution_count": 20,
   "metadata": {},
   "outputs": [],
   "source": [
    "import numpy as np\n",
    "\n",
    "from elasticsearch import Elasticsearch\n",
    "import datetime\n",
    "import pandas as pd\n",
    "\n",
    "import os, glob, json\n",
    "\n",
    "es = Elasticsearch('http://localhost:9200')"
   ]
  },
  {
   "cell_type": "code",
   "execution_count": 31,
   "metadata": {
    "scrolled": true
   },
   "outputs": [
    {
     "name": "stdout",
     "output_type": "stream",
     "text": [
      "DXF1ZXJ5QW5kRmV0Y2gBAAAAAAAAAwgWdUc0MWxEOXZTY1NvNndJb0s3a1BJQQ== 38\n"
     ]
    }
   ],
   "source": [
    "def ctime(t):\n",
    "    return datetime.datetime.strptime(t, '%Y-%m-%d %H:%M:%S.%f').strftime('%Y-%m-%d %H:%M:%S.%f')[:-3]\n",
    "\n",
    "starttime_field=\"1971-12-01 00:00:00.000\"\n",
    "endtime_field=\"2071-12-01 00:00:00.000\"\n",
    "\n",
    "lon_klick = 116.99127\n",
    "lat_klick = -1.0615256\n",
    "varname_field = \"sensor0\"\n",
    "\n",
    "query = {\n",
    "    \"bool\":{\n",
    "        \"must\" : [\n",
    "            {\n",
    "                \"range\": {  # expect this to return the one result on 2012-12-20\n",
    "                    \"starttime1\": {\n",
    "                        \"gte\": ctime(starttime_field),\n",
    "                        \"lte\": ctime(endtime_field)\n",
    "                    }\n",
    "                }\n",
    "            },\n",
    "            {\"exists\" : {\"field\": varname_field}}\n",
    "        ],\n",
    "        \"filter\": {\n",
    "            \"geo_shape\": {\n",
    "                \"spatiotempcovera0\": {\n",
    "                    \"shape\": {\n",
    "                        \"type\": \"point\",\n",
    "                        \"coordinates\": [float(lon_klick),\n",
    "                                        float(lat_klick)]\n",
    "                    },\n",
    "                    \"relation\": \"INTERSECTS\"\n",
    "                }\n",
    "            }\n",
    "        }    \n",
    "    }\n",
    "}\n",
    "\n",
    "all_data = []\n",
    "resp = es.search(index='dlrmetadata', doc_type='doc', body={\"query\":query}, size=1000,   scroll = '2m')\n",
    "sid = resp['_scroll_id']\n",
    "scroll_size = resp['hits']['total']\n",
    "while (scroll_size > 0):\n",
    "    print(sid, scroll_size)\n",
    "    all_data = all_data + [d['_source'] for d in resp['hits']['hits']]\n",
    "    resp = es.scroll(scroll_id = sid, scroll = '2m')\n",
    "    # Update the scroll ID\n",
    "    sid = resp['_scroll_id']\n",
    "    # Get the number of results that we returned in the last scroll\n",
    "    scroll_size = len(resp['hits']['hits'])"
   ]
  },
  {
   "cell_type": "code",
   "execution_count": null,
   "metadata": {},
   "outputs": [],
   "source": []
  },
  {
   "cell_type": "code",
   "execution_count": null,
   "metadata": {},
   "outputs": [],
   "source": []
  },
  {
   "cell_type": "code",
   "execution_count": null,
   "metadata": {},
   "outputs": [],
   "source": []
  },
  {
   "cell_type": "code",
   "execution_count": 19,
   "metadata": {},
   "outputs": [
    {
     "data": {
      "text/plain": [
       "'\\nq = {\\n        \"range\" : {\\n            \"starttime0\" : {\\n                \"gte\" : \"1970-01-01 15:15:15.151\",\\n                \"lte\" : \"1970-01-01 15:15:15.152\"\\n            }\\n        }\\n    }\\n    \\n\\n\\nq = {\\n         \"match\" : { \"unique_id\" : \"dims_op_pl_eoweb1_XXXXB00000000295446012384\" }\\n    } \\n    \\nq1 = {\\n        \"range\": {  # expect this to return the one result on 2012-12-20\\n            \"starttime1\": {\\n                \"gte\": ctime(starttime_field),\\n                \"lte\":ctime(endtime_field)\\n            }\\n        }\\n    }\\n\\n'"
      ]
     },
     "execution_count": 19,
     "metadata": {},
     "output_type": "execute_result"
    }
   ],
   "source": []
  }
 ],
 "metadata": {
  "kernelspec": {
   "display_name": "Python 3",
   "language": "python",
   "name": "python3"
  },
  "language_info": {
   "codemirror_mode": {
    "name": "ipython",
    "version": 3
   },
   "file_extension": ".py",
   "mimetype": "text/x-python",
   "name": "python",
   "nbconvert_exporter": "python",
   "pygments_lexer": "ipython3",
   "version": "3.6.4"
  }
 },
 "nbformat": 4,
 "nbformat_minor": 2
}
